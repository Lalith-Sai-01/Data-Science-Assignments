{
  "nbformat": 4,
  "nbformat_minor": 0,
  "metadata": {
    "colab": {
      "provenance": []
    },
    "kernelspec": {
      "name": "python3",
      "display_name": "Python 3"
    },
    "language_info": {
      "name": "python"
    }
  },
  "cells": [
    {
      "cell_type": "markdown",
      "source": [
        "# ***BASICS OF PYTHON***"
      ],
      "metadata": {
        "id": "FVlPuiPt-Vo-"
      }
    },
    {
      "cell_type": "markdown",
      "source": [
        "# Ex 1: Prime Numbers"
      ],
      "metadata": {
        "id": "M9ic1ZtB-exk"
      }
    },
    {
      "cell_type": "code",
      "execution_count": 1,
      "metadata": {
        "id": "oSNMmEUgm3z7",
        "colab": {
          "base_uri": "https://localhost:8080/"
        },
        "outputId": "885d6a34-178d-412b-9423-1b58df678192"
      },
      "outputs": [
        {
          "output_type": "stream",
          "name": "stdout",
          "text": [
            "Exercise 1: Prime Numbers\n",
            "Is 73 a prime number? True\n"
          ]
        }
      ],
      "source": [
        "def is_prime(n):\n",
        "    \"\"\"Check if a number is prime.\"\"\"\n",
        "    if n <= 1:\n",
        "        return False\n",
        "    for i in range(2, int(n ** 0.5) + 1):\n",
        "        if n % i == 0:\n",
        "            return False\n",
        "    return True\n",
        "\n",
        "# Testing the is_prime function\n",
        "print(\"Ex 1: Prime Numbers\")\n",
        "test_number = 73\n",
        "print(f\"Is {test_number} a prime number? {is_prime(test_number)}\")"
      ]
    },
    {
      "cell_type": "markdown",
      "source": [
        "# Ex 2: Product of Random Numbers"
      ],
      "metadata": {
        "id": "j8i5RvTs-g9X"
      }
    },
    {
      "cell_type": "code",
      "source": [
        "import random\n",
        "\n",
        "def product_of_random_numbers():\n",
        "    \"\"\"Generate two random numbers and check the product with user input.\"\"\"\n",
        "    num1 = random.randint(1, 10)\n",
        "    num2 = random.randint(1, 10)\n",
        "    correct_product = num1 * num2\n",
        "    print(f\"What is the product of {num1} and {num2}?\")\n",
        "    user_input = int(input(\"Enter your answer: \"))\n",
        "    if user_input == correct_product:\n",
        "        print(\"Correct!\")\n",
        "    else:\n",
        "        print(f\"Incorrect! The correct product is {correct_product}.\")\n",
        "\n",
        "# Running the product_of_random_numbers function\n",
        "print(\"\\nEx 2: Product of Random Numbers\")\n",
        "product_of_random_numbers()"
      ],
      "metadata": {
        "colab": {
          "base_uri": "https://localhost:8080/"
        },
        "id": "1wev-WYe-hbV",
        "outputId": "bda2797e-b251-44f1-8259-e66442f6ba4c"
      },
      "execution_count": 3,
      "outputs": [
        {
          "output_type": "stream",
          "name": "stdout",
          "text": [
            "\n",
            "Ex 2: Product of Random Numbers\n",
            "What is the product of 7 and 5?\n",
            "Enter your answer: 35\n",
            "Correct!\n"
          ]
        }
      ]
    },
    {
      "cell_type": "markdown",
      "source": [
        "# Ex 3: Square of Even/Odd Numbers"
      ],
      "metadata": {
        "id": "mAQjyYIo-ii5"
      }
    },
    {
      "cell_type": "code",
      "source": [
        "def squares_of_odd_numbers(start, end):\n",
        "    \"\"\"Print squares of all odd numbers in a given range.\"\"\"\n",
        "    for num in range(start, end + 1):\n",
        "        if num % 2 != 0:\n",
        "            print(f\"The square of {num} is {num ** 2}\")\n",
        "\n",
        "# Running the squares_of_odd_numbers function\n",
        "print(\"\\nEx 3: Squares of Odd Numbers from 100 to 200\")\n",
        "squares_of_odd_numbers(100, 200)"
      ],
      "metadata": {
        "colab": {
          "base_uri": "https://localhost:8080/"
        },
        "id": "UwQebgLu-i6m",
        "outputId": "73de36ae-d444-408b-8c72-3a6f07c16145"
      },
      "execution_count": 6,
      "outputs": [
        {
          "output_type": "stream",
          "name": "stdout",
          "text": [
            "\n",
            "Ex 3: Squares of Odd Numbers from 100 to 200\n",
            "The square of 101 is 10201\n",
            "The square of 103 is 10609\n",
            "The square of 105 is 11025\n",
            "The square of 107 is 11449\n",
            "The square of 109 is 11881\n",
            "The square of 111 is 12321\n",
            "The square of 113 is 12769\n",
            "The square of 115 is 13225\n",
            "The square of 117 is 13689\n",
            "The square of 119 is 14161\n",
            "The square of 121 is 14641\n",
            "The square of 123 is 15129\n",
            "The square of 125 is 15625\n",
            "The square of 127 is 16129\n",
            "The square of 129 is 16641\n",
            "The square of 131 is 17161\n",
            "The square of 133 is 17689\n",
            "The square of 135 is 18225\n",
            "The square of 137 is 18769\n",
            "The square of 139 is 19321\n",
            "The square of 141 is 19881\n",
            "The square of 143 is 20449\n",
            "The square of 145 is 21025\n",
            "The square of 147 is 21609\n",
            "The square of 149 is 22201\n",
            "The square of 151 is 22801\n",
            "The square of 153 is 23409\n",
            "The square of 155 is 24025\n",
            "The square of 157 is 24649\n",
            "The square of 159 is 25281\n",
            "The square of 161 is 25921\n",
            "The square of 163 is 26569\n",
            "The square of 165 is 27225\n",
            "The square of 167 is 27889\n",
            "The square of 169 is 28561\n",
            "The square of 171 is 29241\n",
            "The square of 173 is 29929\n",
            "The square of 175 is 30625\n",
            "The square of 177 is 31329\n",
            "The square of 179 is 32041\n",
            "The square of 181 is 32761\n",
            "The square of 183 is 33489\n",
            "The square of 185 is 34225\n",
            "The square of 187 is 34969\n",
            "The square of 189 is 35721\n",
            "The square of 191 is 36481\n",
            "The square of 193 is 37249\n",
            "The square of 195 is 38025\n",
            "The square of 197 is 38809\n",
            "The square of 199 is 39601\n"
          ]
        }
      ]
    },
    {
      "cell_type": "markdown",
      "source": [
        "# Ex 4: Word Counter"
      ],
      "metadata": {
        "id": "6EPo4YQG-jMn"
      }
    },
    {
      "cell_type": "code",
      "source": [
        "def word_counter(text):\n",
        "    \"\"\"Count the number of occurrences of each word in a given text.\"\"\"\n",
        "    words = text.split()\n",
        "    word_count = {}\n",
        "    for word in words:\n",
        "        word = word.strip('.').strip(',').lower()  # Remove punctuation and convert to lowercase\n",
        "        if word in word_count:\n",
        "            word_count[word] += 1\n",
        "        else:\n",
        "            word_count[word] = 1\n",
        "    return word_count\n",
        "    # Testing the word_counter function\n",
        "print(\"\\nEx 4: Word Counter\")\n",
        "input_text = \"This is a sample text. This text will be used to demonstrate the word counter.\"\n",
        "word_counts = word_counter(input_text)\n",
        "for word, count in word_counts.items():\n",
        "    print(f\"'{word}': {count}\")"
      ],
      "metadata": {
        "colab": {
          "base_uri": "https://localhost:8080/"
        },
        "id": "EZsCTOzc-je4",
        "outputId": "6adf4270-6d2d-4ee2-f822-afc74a6626d6"
      },
      "execution_count": 7,
      "outputs": [
        {
          "output_type": "stream",
          "name": "stdout",
          "text": [
            "\n",
            "Ex 4: Word Counter\n",
            "'this': 2\n",
            "'is': 1\n",
            "'a': 1\n",
            "'sample': 1\n",
            "'text': 2\n",
            "'will': 1\n",
            "'be': 1\n",
            "'used': 1\n",
            "'to': 1\n",
            "'demonstrate': 1\n",
            "'the': 1\n",
            "'word': 1\n",
            "'counter': 1\n"
          ]
        }
      ]
    },
    {
      "cell_type": "markdown",
      "source": [
        "# Ex 5: Palindrome"
      ],
      "metadata": {
        "id": "mSjJA3Ug-j3F"
      }
    },
    {
      "cell_type": "code",
      "source": [
        "def is_palindrome(s):\n",
        "    \"\"\"Check if a string is a palindrome.\"\"\"\n",
        "    cleaned_str = ''.join(char.lower() for char in s if char.isalnum())\n",
        "    return cleaned_str == cleaned_str[::-1]\n",
        "\n",
        "# Testing the is_palindrome function\n",
        "print(\"\\nEx 5: Check for Palindrome\")\n",
        "test_string = \"A man, a plan, a canal, Panama\"\n",
        "print(f\"Is '{test_string}' a palindrome? {is_palindrome(test_string)}\")"
      ],
      "metadata": {
        "colab": {
          "base_uri": "https://localhost:8080/"
        },
        "id": "-HdCJoaQ-kHu",
        "outputId": "57fd807b-18be-456f-b8f3-88eae792ce6b"
      },
      "execution_count": 8,
      "outputs": [
        {
          "output_type": "stream",
          "name": "stdout",
          "text": [
            "\n",
            "Ex 5: Check for Palindrome\n",
            "Is 'A man, a plan, a canal, Panama' a palindrome? True\n"
          ]
        }
      ]
    }
  ]
}