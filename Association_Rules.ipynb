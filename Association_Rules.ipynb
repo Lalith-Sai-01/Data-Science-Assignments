{
  "nbformat": 4,
  "nbformat_minor": 0,
  "metadata": {
    "colab": {
      "provenance": []
    },
    "kernelspec": {
      "name": "python3",
      "display_name": "Python 3"
    },
    "language_info": {
      "name": "python"
    }
  },
  "cells": [
    {
      "cell_type": "markdown",
      "source": [
        "#***Association Rules***"
      ],
      "metadata": {
        "id": "S4hFCbCAj3HC"
      }
    },
    {
      "cell_type": "code",
      "execution_count": null,
      "metadata": {
        "colab": {
          "base_uri": "https://localhost:8080/"
        },
        "id": "osWTxl3Owlky",
        "outputId": "15d43c26-0d8f-4fa5-f3ea-59338dd4c684"
      },
      "outputs": [
        {
          "output_type": "stream",
          "name": "stderr",
          "text": [
            "/usr/local/lib/python3.10/dist-packages/ipykernel/ipkernel.py:283: DeprecationWarning: `should_run_async` will not call `transform_cell` automatically in the future. Please pass the result to `transformed_cell` argument and any exception that happen during thetransform in `preprocessing_exc_tuple` in IPython 7.17 and above.\n",
            "  and should_run_async(code)\n"
          ]
        },
        {
          "output_type": "stream",
          "name": "stdout",
          "text": [
            "                                                   0\n",
            "0  shrimp,almonds,avocado,vegetables mix,green gr...\n",
            "1                             burgers,meatballs,eggs\n",
            "2                                            chutney\n",
            "3                                     turkey,avocado\n",
            "4  mineral water,milk,energy bar,whole wheat rice...\n"
          ]
        }
      ],
      "source": [
        "import pandas as pd\n",
        "\n",
        "# Load the dataset\n",
        "file_path = '/content/sample_data/Online retail.xlsx'\n",
        "data = pd.read_excel(file_path, header=None)\n",
        "\n",
        "# Display the first few rows to understand its structure\n",
        "print(data.head())"
      ]
    },
    {
      "cell_type": "code",
      "source": [
        "# Rename the column to something generic since it represents transactions\n",
        "data.columns = ['Transaction']\n",
        "\n",
        "# Split the items in each transaction to create a list of lists\n",
        "transactions = data['Transaction'].apply(lambda x: x.split(','))\n",
        "\n",
        "# Display the first few transactions\n",
        "print(transactions.head())"
      ],
      "metadata": {
        "colab": {
          "base_uri": "https://localhost:8080/"
        },
        "id": "aOkaouYuwowF",
        "outputId": "6b4c9e42-5a57-4d10-e6dc-e2d0696d3e9a"
      },
      "execution_count": null,
      "outputs": [
        {
          "output_type": "stream",
          "name": "stdout",
          "text": [
            "0    [shrimp, almonds, avocado, vegetables mix, gre...\n",
            "1                           [burgers, meatballs, eggs]\n",
            "2                                            [chutney]\n",
            "3                                    [turkey, avocado]\n",
            "4    [mineral water, milk, energy bar, whole wheat ...\n",
            "Name: Transaction, dtype: object\n"
          ]
        },
        {
          "output_type": "stream",
          "name": "stderr",
          "text": [
            "/usr/local/lib/python3.10/dist-packages/ipykernel/ipkernel.py:283: DeprecationWarning: `should_run_async` will not call `transform_cell` automatically in the future. Please pass the result to `transformed_cell` argument and any exception that happen during thetransform in `preprocessing_exc_tuple` in IPython 7.17 and above.\n",
            "  and should_run_async(code)\n"
          ]
        }
      ]
    },
    {
      "cell_type": "code",
      "source": [
        "!pip install mlxtend --upgrade  # ensures that you have latest version of mlxtend\n",
        "from mlxtend.preprocessing import TransactionEncoder\n",
        "from mlxtend.frequent_patterns import apriori, association_rules\n",
        "\n",
        "from mlxtend.preprocessing import TransactionEncoder\n",
        "from mlxtend.frequent_patterns import apriori, association_rules\n",
        "\n",
        "# Initialize the transaction encoder\n",
        "te = TransactionEncoder()\n",
        "\n",
        "# Fit and transform the transactions data\n",
        "te_ary = te.fit(transactions).transform(transactions)\n",
        "\n",
        "# Convert the array into a DataFrame\n",
        "df = pd.DataFrame(te_ary, columns=te.columns_)\n",
        "\n",
        "# Apply the Apriori algorithm\n",
        "frequent_itemsets = apriori(df, min_support=0.01, use_colnames=True)\n",
        "\n",
        "# Generate the association rules without 'num_itemsets'\n",
        "rules = association_rules(frequent_itemsets, metric=\"lift\", min_threshold=1, num_itemsets=2)\n",
        "rules = rules[['antecedents', 'consequents', 'support', 'confidence', 'lift']]\n",
        "\n",
        "# Display the rules\n",
        "print(rules.head())\n",
        "\n",
        "# Display the top 10 rules sorted by lift\n",
        "top_rules = rules.sort_values('lift', ascending=False).head(10)\n",
        "print(top_rules)"
      ],
      "metadata": {
        "colab": {
          "base_uri": "https://localhost:8080/"
        },
        "collapsed": true,
        "id": "ZNzXc2AfwvOC",
        "outputId": "a1eece35-10f5-408c-d0d7-f2906245d862"
      },
      "execution_count": null,
      "outputs": [
        {
          "output_type": "stream",
          "name": "stderr",
          "text": [
            "/usr/local/lib/python3.10/dist-packages/ipykernel/ipkernel.py:283: DeprecationWarning: `should_run_async` will not call `transform_cell` automatically in the future. Please pass the result to `transformed_cell` argument and any exception that happen during thetransform in `preprocessing_exc_tuple` in IPython 7.17 and above.\n",
            "  and should_run_async(code)\n"
          ]
        },
        {
          "output_type": "stream",
          "name": "stdout",
          "text": [
            "Requirement already satisfied: mlxtend in /usr/local/lib/python3.10/dist-packages (0.23.3)\n",
            "Requirement already satisfied: scipy>=1.2.1 in /usr/local/lib/python3.10/dist-packages (from mlxtend) (1.13.1)\n",
            "Requirement already satisfied: numpy>=1.16.2 in /usr/local/lib/python3.10/dist-packages (from mlxtend) (1.26.4)\n",
            "Requirement already satisfied: pandas>=0.24.2 in /usr/local/lib/python3.10/dist-packages (from mlxtend) (2.2.2)\n",
            "Requirement already satisfied: scikit-learn>=1.3.1 in /usr/local/lib/python3.10/dist-packages (from mlxtend) (1.5.2)\n",
            "Requirement already satisfied: matplotlib>=3.0.0 in /usr/local/lib/python3.10/dist-packages (from mlxtend) (3.8.0)\n",
            "Requirement already satisfied: joblib>=0.13.2 in /usr/local/lib/python3.10/dist-packages (from mlxtend) (1.4.2)\n",
            "Requirement already satisfied: contourpy>=1.0.1 in /usr/local/lib/python3.10/dist-packages (from matplotlib>=3.0.0->mlxtend) (1.3.1)\n",
            "Requirement already satisfied: cycler>=0.10 in /usr/local/lib/python3.10/dist-packages (from matplotlib>=3.0.0->mlxtend) (0.12.1)\n",
            "Requirement already satisfied: fonttools>=4.22.0 in /usr/local/lib/python3.10/dist-packages (from matplotlib>=3.0.0->mlxtend) (4.55.1)\n",
            "Requirement already satisfied: kiwisolver>=1.0.1 in /usr/local/lib/python3.10/dist-packages (from matplotlib>=3.0.0->mlxtend) (1.4.7)\n",
            "Requirement already satisfied: packaging>=20.0 in /usr/local/lib/python3.10/dist-packages (from matplotlib>=3.0.0->mlxtend) (24.2)\n",
            "Requirement already satisfied: pillow>=6.2.0 in /usr/local/lib/python3.10/dist-packages (from matplotlib>=3.0.0->mlxtend) (11.0.0)\n",
            "Requirement already satisfied: pyparsing>=2.3.1 in /usr/local/lib/python3.10/dist-packages (from matplotlib>=3.0.0->mlxtend) (3.2.0)\n",
            "Requirement already satisfied: python-dateutil>=2.7 in /usr/local/lib/python3.10/dist-packages (from matplotlib>=3.0.0->mlxtend) (2.8.2)\n",
            "Requirement already satisfied: pytz>=2020.1 in /usr/local/lib/python3.10/dist-packages (from pandas>=0.24.2->mlxtend) (2024.2)\n",
            "Requirement already satisfied: tzdata>=2022.7 in /usr/local/lib/python3.10/dist-packages (from pandas>=0.24.2->mlxtend) (2024.2)\n",
            "Requirement already satisfied: threadpoolctl>=3.1.0 in /usr/local/lib/python3.10/dist-packages (from scikit-learn>=1.3.1->mlxtend) (3.5.0)\n",
            "Requirement already satisfied: six>=1.5 in /usr/local/lib/python3.10/dist-packages (from python-dateutil>=2.7->matplotlib>=3.0.0->mlxtend) (1.16.0)\n",
            "       antecedents      consequents   support  confidence      lift\n",
            "0  (mineral water)        (avocado)  0.011598    0.048658  1.459926\n",
            "1        (avocado)  (mineral water)  0.011598    0.348000  1.459926\n",
            "2        (burgers)           (cake)  0.011465    0.131498  1.622319\n",
            "3           (cake)        (burgers)  0.011465    0.141447  1.622319\n",
            "4        (burgers)      (chocolate)  0.017064    0.195719  1.194537\n",
            "                    antecedents                 consequents   support  \\\n",
            "214             (herb & pepper)               (ground beef)  0.015998   \n",
            "215               (ground beef)             (herb & pepper)  0.015998   \n",
            "386               (ground beef)  (mineral water, spaghetti)  0.017064   \n",
            "383  (mineral water, spaghetti)               (ground beef)  0.017064   \n",
            "398                 (olive oil)  (mineral water, spaghetti)  0.010265   \n",
            "395  (mineral water, spaghetti)                 (olive oil)  0.010265   \n",
            "192         (frozen vegetables)                  (tomatoes)  0.016131   \n",
            "193                  (tomatoes)         (frozen vegetables)  0.016131   \n",
            "188                    (shrimp)         (frozen vegetables)  0.016664   \n",
            "189         (frozen vegetables)                    (shrimp)  0.016664   \n",
            "\n",
            "     confidence      lift  \n",
            "214    0.323450  3.291994  \n",
            "215    0.162822  3.291994  \n",
            "386    0.173677  2.907928  \n",
            "383    0.285714  2.907928  \n",
            "398    0.155870  2.609786  \n",
            "395    0.171875  2.609786  \n",
            "192    0.169231  2.474464  \n",
            "193    0.235867  2.474464  \n",
            "188    0.233209  2.446574  \n",
            "189    0.174825  2.446574  \n"
          ]
        }
      ]
    },
    {
      "cell_type": "code",
      "source": [],
      "metadata": {
        "id": "6I7JRO_aTt3d"
      },
      "execution_count": null,
      "outputs": []
    }
  ]
}