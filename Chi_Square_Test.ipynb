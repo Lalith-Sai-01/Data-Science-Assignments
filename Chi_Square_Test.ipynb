{
  "nbformat": 4,
  "nbformat_minor": 0,
  "metadata": {
    "colab": {
      "provenance": []
    },
    "kernelspec": {
      "name": "python3",
      "display_name": "Python 3"
    },
    "language_info": {
      "name": "python"
    }
  },
  "cells": [
    {
      "cell_type": "markdown",
      "source": [
        "***CHI-SQUARE TEST***"
      ],
      "metadata": {
        "id": "P59MQ7ZQCMQQ"
      }
    },
    {
      "cell_type": "code",
      "source": [
        "#Import Library\n",
        "import numpy as np\n",
        "import scipy.stats as stats"
      ],
      "metadata": {
        "id": "n8ifx4taTmih"
      },
      "execution_count": 7,
      "outputs": []
    },
    {
      "cell_type": "markdown",
      "source": [
        "Null Hypothesis (H0): There is no significant association between the type of device purchased and customer satisfaction level.\n",
        "\n",
        "Alternative Hypothesis (H1): There is a significant association between the type of device purchased and customer satisfaction level."
      ],
      "metadata": {
        "id": "e93fd7QUU7_E"
      }
    },
    {
      "cell_type": "code",
      "source": [
        "observed = np.array([\n",
        "    [50, 70],  # Very Satisfied\n",
        "    [80, 100], # Satisfied\n",
        "    [60, 90],  # Neutral\n",
        "    [30, 50],  # Unsatisfied\n",
        "    [20, 50]   # Very Unsatisfied\n",
        "])\n",
        "\n",
        "print(\"Observed Frequency Table:\")\n",
        "print(observed)"
      ],
      "metadata": {
        "colab": {
          "base_uri": "https://localhost:8080/"
        },
        "id": "1e2CieTUT-4Z",
        "outputId": "b5d57db9-7130-446f-d99f-d6b8b6d1c90f"
      },
      "execution_count": 8,
      "outputs": [
        {
          "output_type": "stream",
          "name": "stdout",
          "text": [
            "Observed Frequency Table:\n",
            "[[ 50  70]\n",
            " [ 80 100]\n",
            " [ 60  90]\n",
            " [ 30  50]\n",
            " [ 20  50]]\n"
          ]
        }
      ]
    },
    {
      "cell_type": "code",
      "source": [
        "chi2, p, dof, expected = stats.chi2_contingency(observed)\n",
        "\n",
        "print(\"\\nExpected Frequency Table:\")\n",
        "print(expected)"
      ],
      "metadata": {
        "colab": {
          "base_uri": "https://localhost:8080/"
        },
        "id": "c1MIGCJrT-9m",
        "outputId": "c48f2354-819f-400f-9e2d-c5416629fb28"
      },
      "execution_count": 9,
      "outputs": [
        {
          "output_type": "stream",
          "name": "stdout",
          "text": [
            "\n",
            "Expected Frequency Table:\n",
            "[[ 48.  72.]\n",
            " [ 72. 108.]\n",
            " [ 60.  90.]\n",
            " [ 32.  48.]\n",
            " [ 28.  42.]]\n"
          ]
        }
      ]
    },
    {
      "cell_type": "code",
      "source": [
        "alpha = 0.05\n",
        "critical_value = stats.chi2.ppf(1 - alpha, dof)"
      ],
      "metadata": {
        "id": "JbKZ3ZBlT_Ak"
      },
      "execution_count": 10,
      "outputs": []
    },
    {
      "cell_type": "code",
      "source": [
        "print(f\"\\nChi-Square Statistic: {chi2}\")\n",
        "print(f\"Degrees of Freedom: {dof}\")\n",
        "print(f\"Critical Value at alpha = 0.05: {critical_value}\")\n",
        "print(f\"P-Value: {p}\")\n",
        "\n",
        "if chi2 > critical_value:\n",
        "    print(\"\\nDecision: Reject the null hypothesis.\")\n",
        "    print(\"There is a significant association between the type of device purchased and customer satisfaction level.\")\n",
        "else:\n",
        "    print(\"\\nDecision: Fail to reject the null hypothesis.\")\n",
        "    print(\"There is no significant association between the type of device purchased and customer satisfaction level.\")"
      ],
      "metadata": {
        "colab": {
          "base_uri": "https://localhost:8080/"
        },
        "id": "T9TK-OR9T_Di",
        "outputId": "a8018316-0cf0-4e62-8554-f978445d9530"
      },
      "execution_count": 11,
      "outputs": [
        {
          "output_type": "stream",
          "name": "stdout",
          "text": [
            "\n",
            "Chi-Square Statistic: 5.638227513227513\n",
            "Degrees of Freedom: 4\n",
            "Critical Value at alpha = 0.05: 9.487729036781154\n",
            "P-Value: 0.22784371130697179\n",
            "\n",
            "Decision: Fail to reject the null hypothesis.\n",
            "There is no significant association between the type of device purchased and customer satisfaction level.\n"
          ]
        }
      ]
    }
  ]
}