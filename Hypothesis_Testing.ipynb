{
  "nbformat": 4,
  "nbformat_minor": 0,
  "metadata": {
    "colab": {
      "provenance": []
    },
    "kernelspec": {
      "name": "python3",
      "display_name": "Python 3"
    },
    "language_info": {
      "name": "python"
    }
  },
  "cells": [
    {
      "cell_type": "markdown",
      "source": [
        "#***HYPOTHESIS TESTING***"
      ],
      "metadata": {
        "id": "y0EkUfh5h38T"
      }
    },
    {
      "cell_type": "code",
      "execution_count": 1,
      "metadata": {
        "id": "TQBOLvTcgtq8"
      },
      "outputs": [],
      "source": [
        "import scipy.stats as stats\n",
        "import numpy as np"
      ]
    },
    {
      "cell_type": "markdown",
      "source": [
        "#Step - 1 Hypothesis Statement"
      ],
      "metadata": {
        "id": "qkiUKkdcj6v2"
      }
    },
    {
      "cell_type": "code",
      "source": [
        "sample_mean = 3050  # Sample mean weekly cost\n",
        "theoretical_mean = 1000 + 5 * 600  # Theoretical mean weekly cost based on the cost model\n",
        "sigma = 5 * 25  # Standard deviation of the weekly cost\n",
        "sample_size = 25  # Sample size\n",
        "\n",
        "# Print the given data\n",
        "print(\"Given Data:\")\n",
        "print(f\"Sample mean weekly cost: {sample_mean}\")\n",
        "print(f\"Theoretical mean weekly cost: {theoretical_mean}\")\n",
        "print(f\"Standard deviation of the weekly cost: {sigma}\")\n",
        "print(f\"Sample size: {sample_size}\")"
      ],
      "metadata": {
        "colab": {
          "base_uri": "https://localhost:8080/"
        },
        "id": "bAE-i9XMiFbR",
        "outputId": "96c5f264-cd80-4837-eed9-00d80fe58bfd"
      },
      "execution_count": 2,
      "outputs": [
        {
          "output_type": "stream",
          "name": "stdout",
          "text": [
            "Given Data:\n",
            "Sample mean weekly cost: 3050\n",
            "Theoretical mean weekly cost: 4000\n",
            "Standard deviation of the weekly cost: 125\n",
            "Sample size: 25\n"
          ]
        }
      ]
    },
    {
      "cell_type": "markdown",
      "source": [
        "#Step - 2 Test Statistic"
      ],
      "metadata": {
        "id": "lsIoJi7ckKNM"
      }
    },
    {
      "cell_type": "code",
      "source": [
        "# Use the formula for the test statistic (t)\n",
        "# t = (x̄ - μ) / (σ / sqrt(n))\n",
        "test_statistic = (sample_mean - theoretical_mean) / (sigma / np.sqrt(sample_size))\n",
        "\n",
        "# Print the test statistic\n",
        "print(f\"\\nTest Statistic (t): {test_statistic}\")"
      ],
      "metadata": {
        "colab": {
          "base_uri": "https://localhost:8080/"
        },
        "id": "miqxzf97iFmk",
        "outputId": "45ab9c12-912f-44ec-b47e-974fe230b688"
      },
      "execution_count": 3,
      "outputs": [
        {
          "output_type": "stream",
          "name": "stdout",
          "text": [
            "\n",
            "Test Statistic (t): -38.0\n"
          ]
        }
      ]
    },
    {
      "cell_type": "markdown",
      "source": [
        "#Step - 3 Critical Value"
      ],
      "metadata": {
        "id": "KBHJ-b4ukPao"
      }
    },
    {
      "cell_type": "code",
      "source": [
        "# Using the alpha level of 5% (α = 0.05) and a one-tailed test\n",
        "alpha = 0.05\n",
        "critical_value = stats.norm.ppf(1 - alpha)\n",
        "\n",
        "# Print the critical value\n",
        "print(f\"Critical Value at alpha = 0.05: {critical_value}\")"
      ],
      "metadata": {
        "colab": {
          "base_uri": "https://localhost:8080/"
        },
        "id": "7Yi70NCEiFx_",
        "outputId": "0b18cd89-c7db-4680-b9e2-fc0a01b31bec"
      },
      "execution_count": 4,
      "outputs": [
        {
          "output_type": "stream",
          "name": "stdout",
          "text": [
            "Critical Value at alpha = 0.05: 1.6448536269514722\n"
          ]
        }
      ]
    },
    {
      "cell_type": "markdown",
      "source": [
        "#Step - 4 Decision"
      ],
      "metadata": {
        "id": "VHWAj6NSkTAi"
      }
    },
    {
      "cell_type": "code",
      "source": [
        "# Compare the test statistic with the critical value\n",
        "print(\"\\nDecision:\")\n",
        "if test_statistic > critical_value:\n",
        "    print(\"Reject the null hypothesis.\")\n",
        "    print(\"There is strong evidence to support the claim that the weekly operating costs are higher than the model suggests.\")\n",
        "else:\n",
        "    print(\"Fail to reject the null hypothesis.\")\n",
        "    print(\"There is not enough evidence to support the claim that the weekly operating costs are higher than the model suggests.\")"
      ],
      "metadata": {
        "colab": {
          "base_uri": "https://localhost:8080/"
        },
        "id": "_5NgFgQWiF8N",
        "outputId": "f986fab0-665b-490d-f8e9-034bb98654fd"
      },
      "execution_count": 5,
      "outputs": [
        {
          "output_type": "stream",
          "name": "stdout",
          "text": [
            "\n",
            "Decision:\n",
            "Fail to reject the null hypothesis.\n",
            "There is not enough evidence to support the claim that the weekly operating costs are higher than the model suggests.\n"
          ]
        }
      ]
    },
    {
      "cell_type": "markdown",
      "source": [
        "#Step - 5 Conclusion"
      ],
      "metadata": {
        "id": "-hg807KnkXpb"
      }
    },
    {
      "cell_type": "code",
      "source": [
        "print(\"\\nConclusion:\")\n",
        "if test_statistic > critical_value:\n",
        "    conclusion = \"There is strong evidence to support the restaurant owners' claim that the weekly operating costs are higher than the model suggests.\"\n",
        "else:\n",
        "    conclusion = \"There is not enough evidence to support the restaurant owners' claim that the weekly operating costs are higher than the model suggests.\"\n",
        "\n",
        "print(conclusion)"
      ],
      "metadata": {
        "colab": {
          "base_uri": "https://localhost:8080/"
        },
        "id": "5dqm45n9jK9n",
        "outputId": "6014a08c-e838-4f42-ce19-400e1e11f5eb"
      },
      "execution_count": 6,
      "outputs": [
        {
          "output_type": "stream",
          "name": "stdout",
          "text": [
            "\n",
            "Conclusion:\n",
            "There is not enough evidence to support the restaurant owners' claim that the weekly operating costs are higher than the model suggests.\n"
          ]
        }
      ]
    }
  ]
}