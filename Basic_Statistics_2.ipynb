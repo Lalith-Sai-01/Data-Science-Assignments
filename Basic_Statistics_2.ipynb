{
  "nbformat": 4,
  "nbformat_minor": 0,
  "metadata": {
    "colab": {
      "provenance": []
    },
    "kernelspec": {
      "name": "python3",
      "display_name": "Python 3"
    },
    "language_info": {
      "name": "python"
    }
  },
  "cells": [
    {
      "cell_type": "code",
      "execution_count": 1,
      "metadata": {
        "id": "KdlcbQZnKakK"
      },
      "outputs": [],
      "source": [
        "import numpy as np\n",
        "import scipy.stats as stats\n",
        "# Data\n",
        "durability = np.array([1.13, 1.55, 1.43, 0.92, 1.25, 1.36, 1.32, 0.85, 1.07, 1.48, 1.20, 1.33, 1.18, 1.22, 1.29])"
      ]
    },
    {
      "cell_type": "markdown",
      "source": [
        "\n",
        "# A. 99% Confidence Interval using Sample Standard Deviation"
      ],
      "metadata": {
        "id": "xPiyHzOYLVh_"
      }
    },
    {
      "cell_type": "code",
      "source": [
        "# Sample statistics\n",
        "n = len(durability)\n",
        "mean = np.mean(durability)\n",
        "sample_std = np.std(durability, ddof=1)\n",
        "# t-critical value for 99% confidence and n-1 degrees of freedom\n",
        "alpha = 0.01\n",
        "t_critical = stats.t.ppf(1 - alpha/2, df=n-1)\n",
        "# Margin of Error\n",
        "margin_of_error = t_critical * (sample_std / np.sqrt(n))\n",
        "# Confidence Interval\n",
        "ci_lower = mean - margin_of_error\n",
        "ci_upper = mean + margin_of_error\n",
        "print(\"99% Confidence Interval using sample standard deviation:\")\n",
        "print(f\"CI: [{ci_lower:.4f}, {ci_upper:.4f}]\")"
      ],
      "metadata": {
        "colab": {
          "base_uri": "https://localhost:8080/"
        },
        "id": "6M2l9j5JtmJj",
        "outputId": "2cd01f32-af2a-4c64-9c2f-1937a570989f"
      },
      "execution_count": 2,
      "outputs": [
        {
          "output_type": "stream",
          "name": "stdout",
          "text": [
            "99% Confidence Interval using sample standard deviation:\n",
            "CI: [1.0902, 1.3871]\n"
          ]
        }
      ]
    },
    {
      "cell_type": "markdown",
      "source": [
        "\n",
        "# B. 99% Confidence Interval using Known Population Standard Deviation"
      ],
      "metadata": {
        "id": "7yrdE1QgLno9"
      }
    },
    {
      "cell_type": "code",
      "source": [
        "# Known population standard deviation\n",
        "population_std = 0.2\n",
        "# Z-critical value for 99% confidence\n",
        "z_critical = stats.norm.ppf(1 - alpha/2)\n",
        "# Margin of Error\n",
        "margin_of_error_population = z_critical * (population_std / np.sqrt(n))\n",
        "# Confidence Interval\n",
        "ci_lower_population = mean - margin_of_error_population\n",
        "ci_upper_population = mean + margin_of_error_population\n",
        "print(\"99% Confidence Interval using known population standard deviation:\")\n",
        "print(f\"CI: [{ci_lower_population:.4f}, {ci_upper_population:.4f}]\")"
      ],
      "metadata": {
        "colab": {
          "base_uri": "https://localhost:8080/"
        },
        "id": "a5TiA0tbfBEg",
        "outputId": "7a59fcb1-6a77-4b36-dc8d-3306e445c8e8"
      },
      "execution_count": 3,
      "outputs": [
        {
          "output_type": "stream",
          "name": "stdout",
          "text": [
            "99% Confidence Interval using known population standard deviation:\n",
            "CI: [1.1057, 1.3717]\n"
          ]
        }
      ]
    }
  ]
}